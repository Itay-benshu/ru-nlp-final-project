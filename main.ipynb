{
 "cells": [
  {
   "cell_type": "code",
   "execution_count": 1,
   "id": "afd9e6b7",
   "metadata": {},
   "outputs": [
    {
     "name": "stderr",
     "output_type": "stream",
     "text": [
      "C:\\ProgramData\\mambaforge\\envs\\torch\\lib\\site-packages\\torchvision\\datapoints\\__init__.py:12: UserWarning: The torchvision.datapoints and torchvision.transforms.v2 namespaces are still Beta. While we do not expect major breaking changes, some APIs may still change according to user feedback. Please submit any feedback you may have in this issue: https://github.com/pytorch/vision/issues/6753, and you can also check out https://github.com/pytorch/vision/issues/7319 to learn more about the APIs that we suspect might involve future changes. You can silence this warning by calling torchvision.disable_beta_transforms_warning().\n",
      "  warnings.warn(_BETA_TRANSFORMS_WARNING)\n",
      "C:\\ProgramData\\mambaforge\\envs\\torch\\lib\\site-packages\\torchvision\\transforms\\v2\\__init__.py:54: UserWarning: The torchvision.datapoints and torchvision.transforms.v2 namespaces are still Beta. While we do not expect major breaking changes, some APIs may still change according to user feedback. Please submit any feedback you may have in this issue: https://github.com/pytorch/vision/issues/6753, and you can also check out https://github.com/pytorch/vision/issues/7319 to learn more about the APIs that we suspect might involve future changes. You can silence this warning by calling torchvision.disable_beta_transforms_warning().\n",
      "  warnings.warn(_BETA_TRANSFORMS_WARNING)\n"
     ]
    }
   ],
   "source": [
    "from PIL import Image\n",
    "from transformers import AutoModelForCausalLM, AutoModel, AutoTokenizer, ViTImageProcessor, VisionEncoderDecoderModel, VisionEncoderDecoderConfig, AutoConfig\n",
    "from split import split_dataset\n",
    "from dataset import SongsDataset\n",
    "from torch.utils.data import DataLoader\n",
    "from training import train_model\n",
    "from evaluation import evaluate_model\n",
    "import torch"
   ]
  },
  {
   "cell_type": "code",
   "execution_count": 2,
   "id": "3f233921",
   "metadata": {},
   "outputs": [],
   "source": [
    "DEVICE = 'cuda' if torch.cuda.is_available() else 'cpu'"
   ]
  },
  {
   "cell_type": "code",
   "execution_count": 3,
   "id": "b83ccf7a",
   "metadata": {},
   "outputs": [],
   "source": [
    "ENCODER_NAME = \"google/vit-base-patch16-224-in21k\"\n",
    "DECODER_NAME = \"gpt2\""
   ]
  },
  {
   "cell_type": "code",
   "execution_count": 4,
   "id": "962be834",
   "metadata": {},
   "outputs": [],
   "source": [
    "# Splitting the data\n",
    "all_songs_path = 'data/songs/all'\n",
    "# split_dataset(all_songs_path)"
   ]
  },
  {
   "cell_type": "code",
   "execution_count": 5,
   "id": "807a9189",
   "metadata": {},
   "outputs": [],
   "source": [
    "# Loading image_processor and tokenizer to be used in datasets\n",
    "# image_processor = ViTImageProcessor.from_pretrained(ENCODER_NAME)\n",
    "image_processor = ViTImageProcessor.from_pretrained(ENCODER_NAME)\n",
    "tokenizer = AutoTokenizer.from_pretrained(DECODER_NAME)\n",
    "tokenizer.pad_token = tokenizer.eos_token"
   ]
  },
  {
   "cell_type": "code",
   "execution_count": 6,
   "id": "9f0b4eec",
   "metadata": {},
   "outputs": [],
   "source": [
    "from torchvision import transforms"
   ]
  },
  {
   "cell_type": "code",
   "execution_count": 7,
   "id": "8a264923",
   "metadata": {},
   "outputs": [
    {
     "name": "stdout",
     "output_type": "stream",
     "text": [
      "train size 1990\n",
      "val size 22\n",
      "test size 25\n"
     ]
    }
   ],
   "source": [
    "# Datasets\n",
    "train_dataset = SongsDataset('data/songs/train', image_processor, tokenizer, by_line=False, n_variations=10)\n",
    "print('train size', len(train_dataset))\n",
    "validation_dataset = SongsDataset('data/songs/validation', image_processor, tokenizer, by_line=False, n_variations=1)\n",
    "print('val size', len(validation_dataset))\n",
    "test_dataset = SongsDataset('data/songs/test', image_processor, tokenizer, by_line=False, n_variations=1)\n",
    "print('test size', len(test_dataset))"
   ]
  },
  {
   "cell_type": "code",
   "execution_count": 8,
   "id": "488e2915",
   "metadata": {},
   "outputs": [],
   "source": [
    "# Dataloaders\n",
    "BATCH_SIZE = 32\n",
    "train_dataloader = DataLoader(train_dataset, batch_size=BATCH_SIZE, shuffle=True, pin_memory=False)\n",
    "test_dataloader = DataLoader(test_dataset, batch_size=BATCH_SIZE, shuffle=False, pin_memory=False)\n",
    "validation_dataloader = DataLoader(validation_dataset, batch_size=BATCH_SIZE, shuffle=False, pin_memory=False)"
   ]
  },
  {
   "cell_type": "code",
   "execution_count": 9,
   "id": "5e3921eb",
   "metadata": {},
   "outputs": [
    {
     "data": {
      "text/plain": [
       "<module 'evaluation' from 'C:\\\\Users\\\\Itay\\\\Documents\\\\GitHub\\\\nlp-final-project\\\\evaluation.py'>"
      ]
     },
     "execution_count": 9,
     "metadata": {},
     "output_type": "execute_result"
    }
   ],
   "source": [
    "import importlib\n",
    "import training\n",
    "import evaluation\n",
    "from training import train_model\n",
    "from evaluation import evaluate_model\n",
    "importlib.reload(training)\n",
    "importlib.reload(evaluation)"
   ]
  },
  {
   "cell_type": "code",
   "execution_count": 10,
   "id": "2a13c1aa",
   "metadata": {},
   "outputs": [
    {
     "name": "stderr",
     "output_type": "stream",
     "text": [
      "Some weights of GPT2LMHeadModel were not initialized from the model checkpoint at gpt2 and are newly initialized: ['h.9.crossattention.c_attn.bias', 'h.2.crossattention.c_proj.weight', 'h.9.ln_cross_attn.weight', 'h.0.crossattention.c_attn.weight', 'h.11.ln_cross_attn.weight', 'h.4.crossattention.c_attn.weight', 'h.9.crossattention.c_proj.weight', 'h.1.ln_cross_attn.bias', 'h.6.crossattention.c_attn.bias', 'h.0.crossattention.q_attn.weight', 'h.9.crossattention.q_attn.bias', 'h.1.crossattention.q_attn.bias', 'h.3.crossattention.q_attn.bias', 'h.11.ln_cross_attn.bias', 'h.8.crossattention.c_attn.weight', 'h.7.ln_cross_attn.weight', 'h.1.crossattention.c_attn.weight', 'h.5.crossattention.q_attn.weight', 'h.1.crossattention.c_proj.bias', 'h.11.crossattention.c_attn.bias', 'h.5.crossattention.q_attn.bias', 'h.6.crossattention.c_proj.bias', 'h.7.crossattention.c_proj.bias', 'h.11.crossattention.c_attn.weight', 'h.2.crossattention.q_attn.weight', 'h.0.crossattention.c_attn.bias', 'h.11.crossattention.c_proj.weight', 'h.6.crossattention.q_attn.weight', 'h.6.ln_cross_attn.bias', 'h.2.crossattention.c_attn.weight', 'h.4.crossattention.c_proj.weight', 'h.0.crossattention.c_proj.bias', 'h.0.ln_cross_attn.weight', 'h.4.ln_cross_attn.weight', 'h.2.crossattention.c_attn.bias', 'h.1.ln_cross_attn.weight', 'h.1.crossattention.c_attn.bias', 'h.10.crossattention.c_proj.weight', 'h.6.crossattention.c_attn.weight', 'h.3.crossattention.c_proj.bias', 'h.10.ln_cross_attn.bias', 'h.9.crossattention.c_attn.weight', 'h.3.ln_cross_attn.weight', 'h.5.crossattention.c_attn.bias', 'h.7.crossattention.q_attn.weight', 'h.5.ln_cross_attn.bias', 'h.9.crossattention.q_attn.weight', 'h.11.crossattention.c_proj.bias', 'h.3.ln_cross_attn.bias', 'h.6.ln_cross_attn.weight', 'h.6.crossattention.c_proj.weight', 'h.7.crossattention.c_attn.bias', 'h.2.ln_cross_attn.weight', 'h.10.crossattention.q_attn.bias', 'h.2.crossattention.c_proj.bias', 'h.4.crossattention.c_attn.bias', 'h.0.crossattention.c_proj.weight', 'h.1.crossattention.c_proj.weight', 'h.10.ln_cross_attn.weight', 'h.8.ln_cross_attn.weight', 'h.3.crossattention.c_proj.weight', 'h.2.crossattention.q_attn.bias', 'h.7.crossattention.c_proj.weight', 'h.5.ln_cross_attn.weight', 'h.3.crossattention.c_attn.bias', 'h.4.ln_cross_attn.bias', 'h.5.crossattention.c_proj.bias', 'h.7.crossattention.c_attn.weight', 'h.8.crossattention.q_attn.weight', 'h.10.crossattention.c_attn.weight', 'h.2.ln_cross_attn.bias', 'h.10.crossattention.c_proj.bias', 'h.8.crossattention.c_proj.weight', 'h.5.crossattention.c_attn.weight', 'h.10.crossattention.c_attn.bias', 'h.6.crossattention.q_attn.bias', 'h.1.crossattention.q_attn.weight', 'h.8.ln_cross_attn.bias', 'h.8.crossattention.c_proj.bias', 'h.8.crossattention.c_attn.bias', 'h.4.crossattention.q_attn.weight', 'h.3.crossattention.c_attn.weight', 'h.7.crossattention.q_attn.bias', 'h.11.crossattention.q_attn.weight', 'h.7.ln_cross_attn.bias', 'h.8.crossattention.q_attn.bias', 'h.9.crossattention.c_proj.bias', 'h.11.crossattention.q_attn.bias', 'h.5.crossattention.c_proj.weight', 'h.9.ln_cross_attn.bias', 'h.3.crossattention.q_attn.weight', 'h.0.ln_cross_attn.bias', 'h.4.crossattention.q_attn.bias', 'h.4.crossattention.c_proj.bias', 'h.0.crossattention.q_attn.bias', 'h.10.crossattention.q_attn.weight']\n",
      "You should probably TRAIN this model on a down-stream task to be able to use it for predictions and inference.\n",
      "Epoch 1/5 - Loss: 2.5301: 100%|████████████████████████████████████████████████████████| 63/63 [00:55<00:00,  1.14it/s]\n"
     ]
    },
    {
     "name": "stdout",
     "output_type": "stream",
     "text": [
      "Epoch 1/5 - Average Loss: 3.0196\n"
     ]
    },
    {
     "name": "stderr",
     "output_type": "stream",
     "text": [
      "                                                                                                                       \r"
     ]
    },
    {
     "name": "stdout",
     "output_type": "stream",
     "text": [
      "Epoch 1/5 - Average Validation Loss: 3.0456\n"
     ]
    },
    {
     "name": "stderr",
     "output_type": "stream",
     "text": [
      "Epoch 2/5 - Loss: 1.8262: 100%|████████████████████████████████████████████████████████| 63/63 [00:53<00:00,  1.19it/s]\n"
     ]
    },
    {
     "name": "stdout",
     "output_type": "stream",
     "text": [
      "Epoch 2/5 - Average Loss: 2.3252\n"
     ]
    },
    {
     "name": "stderr",
     "output_type": "stream",
     "text": [
      "                                                                                                                       \r"
     ]
    },
    {
     "name": "stdout",
     "output_type": "stream",
     "text": [
      "Epoch 2/5 - Average Validation Loss: 2.9412\n"
     ]
    },
    {
     "name": "stderr",
     "output_type": "stream",
     "text": [
      "Epoch 3/5 - Loss: 1.9755: 100%|████████████████████████████████████████████████████████| 63/63 [00:53<00:00,  1.18it/s]\n"
     ]
    },
    {
     "name": "stdout",
     "output_type": "stream",
     "text": [
      "Epoch 3/5 - Average Loss: 2.0218\n"
     ]
    },
    {
     "name": "stderr",
     "output_type": "stream",
     "text": [
      "                                                                                                                       \r"
     ]
    },
    {
     "name": "stdout",
     "output_type": "stream",
     "text": [
      "Epoch 3/5 - Average Validation Loss: 2.9140\n"
     ]
    },
    {
     "name": "stderr",
     "output_type": "stream",
     "text": [
      "Epoch 4/5 - Loss: 1.9686: 100%|████████████████████████████████████████████████████████| 63/63 [00:53<00:00,  1.18it/s]\n"
     ]
    },
    {
     "name": "stdout",
     "output_type": "stream",
     "text": [
      "Epoch 4/5 - Average Loss: 1.7334\n"
     ]
    },
    {
     "name": "stderr",
     "output_type": "stream",
     "text": [
      "                                                                                                                       \r"
     ]
    },
    {
     "name": "stdout",
     "output_type": "stream",
     "text": [
      "Epoch 4/5 - Average Validation Loss: 2.9561\n"
     ]
    },
    {
     "name": "stderr",
     "output_type": "stream",
     "text": [
      "Epoch 5/5 - Loss: 1.2106: 100%|████████████████████████████████████████████████████████| 63/63 [00:53<00:00,  1.18it/s]\n"
     ]
    },
    {
     "name": "stdout",
     "output_type": "stream",
     "text": [
      "Epoch 5/5 - Average Loss: 1.4120\n"
     ]
    },
    {
     "name": "stderr",
     "output_type": "stream",
     "text": [
      "                                                                                                                       "
     ]
    },
    {
     "name": "stdout",
     "output_type": "stream",
     "text": [
      "Epoch 5/5 - Average Validation Loss: 2.9089\n"
     ]
    },
    {
     "name": "stderr",
     "output_type": "stream",
     "text": [
      "\r"
     ]
    }
   ],
   "source": [
    "model = VisionEncoderDecoderModel.from_encoder_decoder_pretrained(ENCODER_NAME, DECODER_NAME)\n",
    "# update the model config\n",
    "model.config.eos_token_id = tokenizer.eos_token_id\n",
    "model.config.decoder_start_token_id = tokenizer.bos_token_id\n",
    "model.config.pad_token_id = tokenizer.pad_token_id\n",
    "model.config.vocab_size = model.config.decoder.vocab_size\n",
    "\n",
    "\n",
    "train_history, val_history = train_model(model, train_dataloader, validation_dataloader, \n",
    "                                         num_epochs=5, learning_rate=1e-4, device=DEVICE)\n"
   ]
  },
  {
   "cell_type": "code",
   "execution_count": 11,
   "id": "0f7d523e",
   "metadata": {},
   "outputs": [],
   "source": [
    "# model.save_pretrained(\"best_so_far.chk\", from_pt=True) "
   ]
  },
  {
   "cell_type": "code",
   "execution_count": 13,
   "id": "fbd17bd8",
   "metadata": {},
   "outputs": [
    {
     "name": "stderr",
     "output_type": "stream",
     "text": [
      "Evaluating: 100%|████████████████████████████████████████████████████████████████████████| 1/1 [00:04<00:00,  4.83s/it]"
     ]
    },
    {
     "name": "stdout",
     "output_type": "stream",
     "text": [
      "True Lyrics: Never mind I'll find someone like you\n",
      "I wish nothing but the best for you too\n",
      "Don't forget me I beg, I'll remember you said\n",
      "\n",
      "Predicted Lyrics: <|endoftext|>I don't understand why you're killing me\n",
      "I'm blinded by your lies\n",
      "I can see that you're blinded by my lies\n",
      "You can't understand\n",
      "==================================================\n",
      "True Lyrics: I bleed it out\n",
      "Digging deeper just to throw it away\n",
      "I bleed it out\n",
      "Digging deeper just to throw it away\n",
      "I bleed it out\n",
      "Predicted Lyrics: <|endoftext|>I don't know what to tell you\n",
      "I just want you to know that I love you\n",
      "You're the kind of guy that can sharpen your knife\n",
      "==================================================\n",
      "True Lyrics: (Take that money and watch it burn)\n",
      "(Sink in the river the lessons I learned)<|endoftext|><|endoftext|><|endoftext|><|endoftext|><|endoftext|><|endoftext|><|endoftext|><|endoftext|><|endoftext|><|endoftext|><|endoftext|>\n",
      "Predicted Lyrics: <|endoftext|>I don't understand why men would want to have fun with me\n",
      "I think men just want to be great at what they do\n",
      "And I think that men\n",
      "==================================================\n",
      "True Lyrics: When the sun shine, we shine together\n",
      "Told you I'll be here forever\n",
      "Said I'll always be your friend\n",
      "Took an oath, I\n",
      "Predicted Lyrics: <|endoftext|>I don't understand why you would lie\n",
      "Don't believe me just watch me\n",
      "I'm blinded by the lights of my cell phone\n",
      "I can't f\n",
      "==================================================\n",
      "True Lyrics: When I rich nigga want you (Want you babe)\n",
      "And your nigga can't do nothing for ya (Nothin' oh)\n",
      "Oh\n",
      "Predicted Lyrics: <|endoftext|>I don't want no one to see me\n",
      "I want everybody to know that I'm not just another one of your plays\n",
      "Don't you dare touch me\n",
      "==================================================\n",
      "True Lyrics: Wish we could turn back time, to the good old days\n",
      "When our momma sang us to sleep but now weâ€™re stressed out\n",
      "\n",
      "Predicted Lyrics: <|endoftext|>I don't understand why you would lie\n",
      "Don't tell me why you'd lie\n",
      "If you wanted to, you'd tell me\n",
      "But I don't\n",
      "==================================================\n",
      "True Lyrics: My shadow's the only one that walks beside me\n",
      "My shallow heart's the only thing that's beating\n",
      "Sometimes I wish someone out there will find me\n",
      "\n",
      "Predicted Lyrics: <|endoftext|>I don't understand why you're here\n",
      "You're a genie in a bottle, a firework in your hand\n",
      "I'm blinded by your lies\n",
      "\n",
      "==================================================\n",
      "True Lyrics: Ooh-wee-ooh, I look just like Buddy Holly\n",
      "Oh oh, and you're Mary Tyler Moore\n",
      "I don't care what they\n",
      "Predicted Lyrics: <|endoftext|>I don't know what to tell you\n",
      "I just want you to know that I love you\n",
      "You're the kind of guy that can sharpen your knife\n",
      "==================================================\n",
      "True Lyrics: Hello from the other side (other side)\n",
      "I must've called a thousand times (thousand times)\n",
      "To tell you I'm sorry\n",
      "For everything\n",
      "Predicted Lyrics: <|endoftext|>I don't want to be alone\n",
      "I want you to know that I love you\n",
      "I love you just the way I feel\n",
      "I know that you're\n",
      "==================================================\n",
      "True Lyrics: Hello, hello, hello, how low\n",
      "Hello, hello, hello, how low\n",
      "Hello, hello, hello, how low\n",
      "Hello, hello, hello\n",
      "Predicted Lyrics: <|endoftext|>I don't want to be rude\n",
      "I want you to know that I love you\n",
      "I love you just the way you are\n",
      "I'm just a girl\n",
      "==================================================\n",
      "True Lyrics: Because I'm happy\n",
      "Clap along if you feel like a room without a roof\n",
      "Because I'm happy\n",
      "Clap along if you feel like happiness is\n",
      "Predicted Lyrics: <|endoftext|>I don't want to be rude\n",
      "I want to show you that I'm not rude\n",
      "But I want you to know that I am\n",
      "I'm not\n",
      "==================================================\n",
      "True Lyrics: Rah rah ah-ah-ah!\n",
      "Ro mah ro-mah-mah\n",
      "Gaga ooh-la-la!\n",
      "Want your\n",
      "Predicted Lyrics: <|endoftext|>I don't know what to tell you\n",
      "I just want you to know that I love you\n",
      "You're the kind of guy that can sharpen your knife\n",
      "==================================================\n",
      "True Lyrics: I hear Jerusalem bells are ringing\n",
      "Roman Calvary choirs are singing\n",
      "Be my mirror, my sword and shield\n",
      "My missionaries in a foreign field\n",
      "\n",
      "Predicted Lyrics: <|endoftext|>I don't know what to tell you\n",
      "I just want you to know that I love you\n",
      "And I know that you're my heartbeat\n",
      "I want you\n",
      "==================================================\n",
      "True Lyrics: I belong with you, you belong with me, you're my sweetheart\n",
      "I belong with you, you belong with me, you're my sweet'(\n",
      "Predicted Lyrics: <|endoftext|>I want you to know that I love you\n",
      "I love you just the way you are\n",
      "I want to feel your touch\n",
      "I wanna feel your heartbeat\n",
      "\n",
      "==================================================\n",
      "True Lyrics: You know that I could use somebody\n",
      "You know that I could use somebody\n",
      "Someone like you<|endoftext|><|endoftext|><|endoftext|><|endoftext|><|endoftext|><|endoftext|><|endoftext|><|endoftext|><|endoftext|><|endoftext|><|endoftext|><|endoftext|><|endoftext|>\n",
      "Predicted Lyrics: <|endoftext|>I don't know what to do\n",
      "I just want you to know that I love you\n",
      "I love you just the way you are\n",
      "And I want you\n",
      "==================================================\n",
      "True Lyrics: I want it, I got it, I want it, I got it\n",
      "I want it, I got it, I want it, I got it (\n",
      "Predicted Lyrics: <|endoftext|>I don't understand why men would want to have fun with you\n",
      "You're a genie in a bottle, you can't f*ck with me\n",
      "\n",
      "==================================================\n",
      "True Lyrics: I'm so fancy\n",
      "You already know\n",
      "I'm in the fast lane\n",
      "From L.A. to Tokyo\n",
      "I'm so fancy\n",
      "Can't you\n",
      "Predicted Lyrics: <|endoftext|>I don't understand why men think that I'm shallow\n",
      "I think I'm just a girl who just wants to be with you\n",
      "I'm not a girl\n",
      "==================================================\n",
      "True Lyrics: Oh, oh-oh I got a love that keeps me waiting\n",
      "Oh, oh-oh I got a love that keeps me waiting\n",
      "I'm a lonely\n",
      "Predicted Lyrics: <|endoftext|>I don't know what to tell you\n",
      "I just want you to know that I love you\n",
      "You're the kind of girl that plays with me all day\n",
      "==================================================\n",
      "True Lyrics: I said, ooh, I'm blinded by the lights\n",
      "No, I can't sleep until I feel your touch\n",
      "I said, ooh, I\n",
      "Predicted Lyrics: <|endoftext|>I don't understand why men would want to have fun with you\n",
      "You know that if you wanted to, you'd have to be a genie in a\n",
      "==================================================\n",
      "True Lyrics: All my friends are heathens, take it slow\n",
      "Wait for them to ask you who you know\n",
      "Please don't make any sudden moves\n",
      "You don't\n",
      "Predicted Lyrics: <|endoftext|>I don't understand why you would lie\n",
      "Don't you dare lie\n",
      "I'm blinded by the light of your lies\n",
      "I can't fathom why you\n",
      "==================================================\n",
      "True Lyrics: I want it, I got it, I want it, I got it\n",
      "I want it, I got it, I want it, I got it (\n",
      "Predicted Lyrics: <|endoftext|>I don't understand why you would lie\n",
      "You're a genie in a bottle, you can't f*ck with me\n",
      "If you wanted to,\n",
      "==================================================\n",
      "True Lyrics: It's been a long day without you, my friend\n",
      "And I'll tell you all about it when I see you again\n",
      "We've come a long way\n",
      "Predicted Lyrics: <|endoftext|>I don't know what to do with my life now\n",
      "I just want you to know that I love you\n",
      "I love you just the way you are\n",
      "\n",
      "==================================================\n",
      "True Lyrics: I'll keep you my dirty little secret\n",
      "(Dirty little secret)\n",
      "Don't tell anyone or you'll be just another regret\n",
      "(Just another regret\n",
      "Predicted Lyrics: <|endoftext|>I don't know what to tell you\n",
      "I just want you to know that I love you\n",
      "You're the kind of guy that can sharpen your knife\n",
      "==================================================\n",
      "True Lyrics: Windmill, windmill for the land\n",
      "Turn forever hand in hand\n",
      "Take it all in on your stride\n",
      "It is ticking, falling down\n",
      "Love forever\n",
      "Predicted Lyrics: <|endoftext|>I don't understand why you would lie\n",
      "If you wanted to\n",
      "Tell me why I should not understand\n",
      "Because I am blinded by your lies\n",
      "I don\n",
      "==================================================\n",
      "True Lyrics: Yeah, is it too late now to say sorry?\n",
      "'Cause I'm missing more than just your body\n",
      "Oh, is it too late now to say\n",
      "Predicted Lyrics: <|endoftext|>I don't understand why you would lie\n",
      "Don't you dare lie\n",
      "I'm blinded by the light of your lies\n",
      "I can't fathom why you\n",
      "==================================================\n"
     ]
    },
    {
     "name": "stderr",
     "output_type": "stream",
     "text": [
      "\n"
     ]
    }
   ],
   "source": [
    "# beam search parameters\n",
    "model.config.max_length = 32\n",
    "model.config.early_stopping = True\n",
    "model.config.no_repeat_ngram_size = 2\n",
    "model.config.length_penalty = 2.0\n",
    "model.config.num_beams = 4\n",
    "\n",
    "true_lyrics, predicted_lyrics = evaluate_model(model, test_dataloader, device=DEVICE, \n",
    "                                               max_new_tokens=32, \n",
    "                                               num_beams=4, \n",
    "                                               no_repeat_ngram_size=3)  "
   ]
  },
  {
   "cell_type": "markdown",
   "id": "494c5119",
   "metadata": {},
   "source": [
    "### Evaluating results"
   ]
  },
  {
   "cell_type": "code",
   "execution_count": 14,
   "id": "4de05594",
   "metadata": {},
   "outputs": [
    {
     "name": "stderr",
     "output_type": "stream",
     "text": [
      "No model was supplied, defaulted to distilbert-base-uncased-finetuned-sst-2-english and revision af0f99b (https://huggingface.co/distilbert-base-uncased-finetuned-sst-2-english).\n",
      "Using a pipeline without specifying a model name and revision in production is not recommended.\n"
     ]
    }
   ],
   "source": [
    "from transformers import pipeline\n",
    "sentiment_pipeline = pipeline(\"sentiment-analysis\")"
   ]
  },
  {
   "cell_type": "code",
   "execution_count": 15,
   "id": "484cf9b7",
   "metadata": {},
   "outputs": [],
   "source": [
    "predicted_sentiments = [k['label'] for k in sentiment_pipeline(predicted_lyrics)]\n",
    "true_sentiments = [k['label'] for k in sentiment_pipeline(true_lyrics)]"
   ]
  },
  {
   "cell_type": "code",
   "execution_count": 17,
   "id": "c0f6edb6",
   "metadata": {},
   "outputs": [
    {
     "data": {
      "text/plain": [
       "0.72"
      ]
     },
     "execution_count": 17,
     "metadata": {},
     "output_type": "execute_result"
    }
   ],
   "source": [
    "from sklearn.metrics import accuracy_score\n",
    "accuracy_score(true_sentiments, predicted_sentiments)"
   ]
  },
  {
   "cell_type": "code",
   "execution_count": null,
   "id": "7c152601",
   "metadata": {},
   "outputs": [],
   "source": []
  },
  {
   "cell_type": "code",
   "execution_count": null,
   "id": "f3b30af1",
   "metadata": {},
   "outputs": [],
   "source": []
  }
 ],
 "metadata": {
  "kernelspec": {
   "display_name": "Python 3 (ipykernel)",
   "language": "python",
   "name": "python3"
  },
  "language_info": {
   "codemirror_mode": {
    "name": "ipython",
    "version": 3
   },
   "file_extension": ".py",
   "mimetype": "text/x-python",
   "name": "python",
   "nbconvert_exporter": "python",
   "pygments_lexer": "ipython3",
   "version": "3.9.15"
  }
 },
 "nbformat": 4,
 "nbformat_minor": 5
}
